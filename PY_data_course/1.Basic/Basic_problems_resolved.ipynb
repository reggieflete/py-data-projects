{
 "cells": [
  {
   "cell_type": "code",
   "execution_count": 2,
   "id": "f6929e12",
   "metadata": {},
   "outputs": [
    {
     "name": "stdout",
     "output_type": "stream",
     "text": [
      "Job count is: 42\n"
     ]
    }
   ],
   "source": [
    "job_count = 42\n",
    "print(f\"Job count is: {job_count}\")"
   ]
  },
  {
   "cell_type": "code",
   "execution_count": 3,
   "id": "5422b537",
   "metadata": {},
   "outputs": [
    {
     "name": "stdout",
     "output_type": "stream",
     "text": [
      "Data Engineer DataWorks True\n"
     ]
    }
   ],
   "source": [
    "job_title = 'Data Engineer'\n",
    "company_name = 'DataWorks'\n",
    "remote_status = True\n",
    "print(job_title, company_name, remote_status)"
   ]
  },
  {
   "cell_type": "code",
   "execution_count": 4,
   "id": "6a8d6890",
   "metadata": {},
   "outputs": [
    {
     "name": "stdout",
     "output_type": "stream",
     "text": [
      "140000\n"
     ]
    }
   ],
   "source": [
    "base_salary = 120000\n",
    "bonus = 20000\n",
    "total_compensation = base_salary + bonus\n",
    "print(total_compensation)"
   ]
  },
  {
   "cell_type": "code",
   "execution_count": 5,
   "id": "d495f41e",
   "metadata": {},
   "outputs": [
    {
     "name": "stdout",
     "output_type": "stream",
     "text": [
      "6000.0\n"
     ]
    }
   ],
   "source": [
    "annual_salary = 72000\n",
    "monthly_salary = annual_salary / 12\n",
    "print(monthly_salary)"
   ]
  },
  {
   "cell_type": "code",
   "execution_count": 6,
   "id": "bd48f7c6",
   "metadata": {},
   "outputs": [
    {
     "name": "stdout",
     "output_type": "stream",
     "text": [
      "Data Scientist AI Solutions 121000.0\n"
     ]
    }
   ],
   "source": [
    "job_title = 'Data Scientist'\n",
    "company_name = 'AI Solutions'\n",
    "salary = 110000\n",
    "bonus = salary * 0.1\n",
    "total_compensation = salary + bonus\n",
    "print(job_title, company_name, total_compensation)"
   ]
  },
  {
   "cell_type": "code",
   "execution_count": 7,
   "id": "a2fe72ae",
   "metadata": {},
   "outputs": [
    {
     "name": "stdout",
     "output_type": "stream",
     "text": [
      "<class 'str'>\n"
     ]
    }
   ],
   "source": [
    "job_title = 'Data Scientist'\n",
    "print(type(job_title))"
   ]
  },
  {
   "cell_type": "code",
   "execution_count": 8,
   "id": "61ce4063",
   "metadata": {},
   "outputs": [
    {
     "name": "stdout",
     "output_type": "stream",
     "text": [
      "<class 'float'>\n"
     ]
    }
   ],
   "source": [
    "salary = 85000.50\n",
    "print(type(salary))"
   ]
  },
  {
   "cell_type": "code",
   "execution_count": 9,
   "id": "92fb4906",
   "metadata": {},
   "outputs": [
    {
     "name": "stdout",
     "output_type": "stream",
     "text": [
      "<class 'int'>\n"
     ]
    }
   ],
   "source": [
    "salary_rate = 120000.75\n",
    "salary_rate = int(salary_rate)\n",
    "print(type(salary_rate))"
   ]
  },
  {
   "cell_type": "code",
   "execution_count": 10,
   "id": "550c2b19",
   "metadata": {},
   "outputs": [
    {
     "name": "stdout",
     "output_type": "stream",
     "text": [
      "True\n"
     ]
    }
   ],
   "source": [
    "company_name = 'DataWiz Inc.'\n",
    "print(isinstance(company_name, str))"
   ]
  },
  {
   "cell_type": "code",
   "execution_count": 11,
   "id": "3ace9526",
   "metadata": {},
   "outputs": [
    {
     "name": "stdout",
     "output_type": "stream",
     "text": [
      "DATA SCIENTIST\n"
     ]
    }
   ],
   "source": [
    "job_title = 'data scientist'\n",
    "job_title_upper = job_title.upper()\n",
    "print(job_title_upper)"
   ]
  },
  {
   "cell_type": "code",
   "execution_count": 12,
   "id": "944a0b25",
   "metadata": {},
   "outputs": [
    {
     "name": "stdout",
     "output_type": "stream",
     "text": [
      "Data Engineer\n"
     ]
    }
   ],
   "source": [
    "job_title = 'Data Analyst'\n",
    "new_job_title = job_title.replace('Analyst', 'Engineer')\n",
    "print(new_job_title)"
   ]
  },
  {
   "cell_type": "code",
   "execution_count": 13,
   "id": "b8608b03",
   "metadata": {},
   "outputs": [
    {
     "name": "stdout",
     "output_type": "stream",
     "text": [
      "Senior Data Analyst\n"
     ]
    }
   ],
   "source": [
    "seniority_level = 'Senior'\n",
    "job_title = 'Data Analyst'\n",
    "full_job_title = seniority_level + ' ' + job_title\n",
    "print(full_job_title)"
   ]
  },
  {
   "cell_type": "code",
   "execution_count": 14,
   "id": "75caee4b",
   "metadata": {},
   "outputs": [
    {
     "name": "stdout",
     "output_type": "stream",
     "text": [
      "14\n"
     ]
    }
   ],
   "source": [
    "job_title = 'Data Scientist'\n",
    "job_title_length = len(job_title)\n",
    "print(job_title_length)"
   ]
  },
  {
   "cell_type": "code",
   "execution_count": 15,
   "id": "ea17ac34",
   "metadata": {},
   "outputs": [
    {
     "name": "stdout",
     "output_type": "stream",
     "text": [
      "data engineer\n"
     ]
    }
   ],
   "source": [
    "job_title = 'DATA ENGINEER'\n",
    "job_title_lower = job_title.lower()\n",
    "print(job_title_lower)"
   ]
  },
  {
   "cell_type": "code",
   "execution_count": 16,
   "id": "c0c4326f",
   "metadata": {},
   "outputs": [
    {
     "name": "stdout",
     "output_type": "stream",
     "text": [
      "Job Title: Data Scientist\n"
     ]
    }
   ],
   "source": [
    "job_title = 'Data Scientist'\n",
    "result = 'Job Title: ' + job_title\n",
    "print(result)"
   ]
  },
  {
   "cell_type": "code",
   "execution_count": 17,
   "id": "960b62bf",
   "metadata": {},
   "outputs": [
    {
     "name": "stdout",
     "output_type": "stream",
     "text": [
      "Data Scientist at DataWiz Inc.\n"
     ]
    }
   ],
   "source": [
    "position = 'Data Scientist'\n",
    "company = 'DataWiz Inc.'\n",
    "result = f'{position} at {company}'\n",
    "print(result)"
   ]
  },
  {
   "cell_type": "code",
   "execution_count": 18,
   "id": "b6d533e5",
   "metadata": {},
   "outputs": [
    {
     "name": "stdout",
     "output_type": "stream",
     "text": [
      "Role: Data Analyst, Skill: Python\n"
     ]
    }
   ],
   "source": [
    "role = 'Data Analyst'\n",
    "skill = 'Python'\n",
    "result = 'Role: {}, Skill: {}'.format(role, skill)\n",
    "print(result)"
   ]
  },
  {
   "cell_type": "code",
   "execution_count": 19,
   "id": "05566d87",
   "metadata": {},
   "outputs": [
    {
     "name": "stdout",
     "output_type": "stream",
     "text": [
      "Role: Data Engineer, Skill: SQL\n"
     ]
    }
   ],
   "source": [
    "role = 'Data Engineer'\n",
    "skill = 'SQL'\n",
    "result = 'Role: %s, Skill: %s' % (role, skill)\n",
    "print(result)"
   ]
  },
  {
   "cell_type": "code",
   "execution_count": 20,
   "id": "d37f918d",
   "metadata": {},
   "outputs": [
    {
     "name": "stdout",
     "output_type": "stream",
     "text": [
      "96000\n"
     ]
    }
   ],
   "source": [
    "monthly_salary = 8000\n",
    "annual_salary = monthly_salary * 12\n",
    "print(annual_salary)"
   ]
  },
  {
   "cell_type": "code",
   "execution_count": 21,
   "id": "76c0d4bd",
   "metadata": {},
   "outputs": [
    {
     "name": "stdout",
     "output_type": "stream",
     "text": [
      "False\n"
     ]
    }
   ],
   "source": [
    "avg_salary_analyst = 70000\n",
    "avg_salary_scientist = 85000\n",
    "is_analyst_salary_higher = avg_salary_analyst > avg_salary_scientist\n",
    "print(is_analyst_salary_higher)"
   ]
  },
  {
   "cell_type": "code",
   "execution_count": 22,
   "id": "deb677d4",
   "metadata": {},
   "outputs": [
    {
     "name": "stdout",
     "output_type": "stream",
     "text": [
      "56\n"
     ]
    }
   ],
   "source": [
    "total_applications = 123\n",
    "job_openings = 67\n",
    "remainder = total_applications % job_openings\n",
    "print(remainder)"
   ]
  },
  {
   "cell_type": "code",
   "execution_count": 23,
   "id": "cbb43fbf",
   "metadata": {},
   "outputs": [
    {
     "name": "stdout",
     "output_type": "stream",
     "text": [
      "25\n"
     ]
    }
   ],
   "source": [
    "job_postings = 20\n",
    "job_postings += 5\n",
    "print(job_postings)"
   ]
  },
  {
   "cell_type": "code",
   "execution_count": 24,
   "id": "6c6e7ca6",
   "metadata": {},
   "outputs": [
    {
     "name": "stdout",
     "output_type": "stream",
     "text": [
      "85000.0\n"
     ]
    }
   ],
   "source": [
    "min_salary = 50000\n",
    "max_salary = 120000\n",
    "average_salary = (min_salary + max_salary) / 2\n",
    "print(average_salary)"
   ]
  }
 ],
 "metadata": {
  "kernelspec": {
   "display_name": "python_course",
   "language": "python",
   "name": "python3"
  },
  "language_info": {
   "codemirror_mode": {
    "name": "ipython",
    "version": 3
   },
   "file_extension": ".py",
   "mimetype": "text/x-python",
   "name": "python",
   "nbconvert_exporter": "python",
   "pygments_lexer": "ipython3",
   "version": "3.13.2"
  }
 },
 "nbformat": 4,
 "nbformat_minor": 5
}
