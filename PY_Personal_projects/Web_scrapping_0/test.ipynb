{
 "cells": [
  {
   "cell_type": "code",
   "execution_count": 3,
   "id": "8d063558",
   "metadata": {},
   "outputs": [],
   "source": [
    "import requests\n",
    "from bs4 import BeautifulSoup\n",
    "import csv\n",
    "import time\n"
   ]
  },
  {
   "cell_type": "code",
   "execution_count": 4,
   "id": "e566c40f",
   "metadata": {},
   "outputs": [],
   "source": [
    "# Base URL for pagination\n",
    "base_url = 'https://www.blacktoerunning.com/collections/all?filters=Locations,King+West+(95+Bathurst+St.)'\n",
    "\n",
    "# Headers to mimic a browser\n",
    "headers = {\n",
    "    'User-Agent': 'Mozilla/5.0'\n",
    "}\n",
    "\n"
   ]
  },
  {
   "cell_type": "markdown",
   "id": "307d5eb1",
   "metadata": {},
   "source": [
    "Midtown"
   ]
  },
  {
   "cell_type": "code",
   "execution_count": 5,
   "id": "8c73a942",
   "metadata": {},
   "outputs": [
    {
     "ename": "NameError",
     "evalue": "name 'response' is not defined",
     "output_type": "error",
     "traceback": [
      "\u001b[1;31m---------------------------------------------------------------------------\u001b[0m",
      "\u001b[1;31mNameError\u001b[0m                                 Traceback (most recent call last)",
      "Cell \u001b[1;32mIn[5], line 6\u001b[0m\n\u001b[0;32m      1\u001b[0m \u001b[38;5;28;01mimport\u001b[39;00m \u001b[38;5;21;01mrequests\u001b[39;00m\n\u001b[0;32m      5\u001b[0m \u001b[38;5;66;03m# Print first 3000 characters of HTML to inspect\u001b[39;00m\n\u001b[1;32m----> 6\u001b[0m html_content \u001b[38;5;241m=\u001b[39m response\u001b[38;5;241m.\u001b[39mtext\n\u001b[0;32m      7\u001b[0m \u001b[38;5;28mprint\u001b[39m(html_content[:])\n",
      "\u001b[1;31mNameError\u001b[0m: name 'response' is not defined"
     ]
    }
   ],
   "source": [
    "import requests\n",
    "\n",
    "\n",
    "\n",
    "# Print first 3000 characters of HTML to inspect\n",
    "html_content = response.text\n",
    "print(html_content[:])  # You can adjust the number\n"
   ]
  },
  {
   "cell_type": "code",
   "execution_count": 24,
   "id": "6c38165f",
   "metadata": {},
   "outputs": [],
   "source": [
    "url = 'https://www.blacktoerunning.com/collections/mens-shoes?filters=Locations,Midtown+(2488+Yonge+St.)'\n",
    "headers = {\n",
    "    'User-Agent': 'Mozilla/5.0'\n",
    "}\n",
    "\n",
    "response = requests.get(url, headers=headers)\n",
    "\n",
    "with open('mens_shoes_blacktoe_mt.html', 'w', encoding='utf-8') as file:\n",
    "    file.write(html_content)\n"
   ]
  },
  {
   "cell_type": "code",
   "execution_count": 6,
   "id": "79a01ee5",
   "metadata": {},
   "outputs": [
    {
     "ename": "NameError",
     "evalue": "name 'html_content' is not defined",
     "output_type": "error",
     "traceback": [
      "\u001b[1;31m---------------------------------------------------------------------------\u001b[0m",
      "\u001b[1;31mNameError\u001b[0m                                 Traceback (most recent call last)",
      "Cell \u001b[1;32mIn[6], line 9\u001b[0m\n\u001b[0;32m      6\u001b[0m response \u001b[38;5;241m=\u001b[39m requests\u001b[38;5;241m.\u001b[39mget(url, headers\u001b[38;5;241m=\u001b[39mheaders)\n\u001b[0;32m      8\u001b[0m \u001b[38;5;28;01mwith\u001b[39;00m \u001b[38;5;28mopen\u001b[39m(\u001b[38;5;124m'\u001b[39m\u001b[38;5;124mblacktoe_kw.html\u001b[39m\u001b[38;5;124m'\u001b[39m, \u001b[38;5;124m'\u001b[39m\u001b[38;5;124mw\u001b[39m\u001b[38;5;124m'\u001b[39m, encoding\u001b[38;5;241m=\u001b[39m\u001b[38;5;124m'\u001b[39m\u001b[38;5;124mutf-8\u001b[39m\u001b[38;5;124m'\u001b[39m) \u001b[38;5;28;01mas\u001b[39;00m file:\n\u001b[1;32m----> 9\u001b[0m     file\u001b[38;5;241m.\u001b[39mwrite(html_content)\n",
      "\u001b[1;31mNameError\u001b[0m: name 'html_content' is not defined"
     ]
    }
   ],
   "source": [
    "url = 'https://www.blacktoerunning.com/collections/all?filters=Locations,King+West+(95+Bathurst+St.)'\n",
    "headers = {\n",
    "    'User-Agent': 'Mozilla/5.0'\n",
    "}\n",
    "\n",
    "response = requests.get(url, headers=headers)\n",
    "\n",
    "with open('blacktoe_kw.html', 'w', encoding='utf-8') as file:\n",
    "    file.write(html_content)"
   ]
  },
  {
   "cell_type": "code",
   "execution_count": 7,
   "id": "d09d9017",
   "metadata": {},
   "outputs": [
    {
     "ename": "NameError",
     "evalue": "name 'html_content' is not defined",
     "output_type": "error",
     "traceback": [
      "\u001b[1;31m---------------------------------------------------------------------------\u001b[0m",
      "\u001b[1;31mNameError\u001b[0m                                 Traceback (most recent call last)",
      "Cell \u001b[1;32mIn[7], line 9\u001b[0m\n\u001b[0;32m      6\u001b[0m response \u001b[38;5;241m=\u001b[39m requests\u001b[38;5;241m.\u001b[39mget(url, headers\u001b[38;5;241m=\u001b[39mheaders)\n\u001b[0;32m      8\u001b[0m \u001b[38;5;28;01mwith\u001b[39;00m \u001b[38;5;28mopen\u001b[39m(\u001b[38;5;124m'\u001b[39m\u001b[38;5;124mmens_shoes_blacktoe_kw.html\u001b[39m\u001b[38;5;124m'\u001b[39m, \u001b[38;5;124m'\u001b[39m\u001b[38;5;124mw\u001b[39m\u001b[38;5;124m'\u001b[39m, encoding\u001b[38;5;241m=\u001b[39m\u001b[38;5;124m'\u001b[39m\u001b[38;5;124mutf-8\u001b[39m\u001b[38;5;124m'\u001b[39m) \u001b[38;5;28;01mas\u001b[39;00m file:\n\u001b[1;32m----> 9\u001b[0m     file\u001b[38;5;241m.\u001b[39mwrite(html_content)\n",
      "\u001b[1;31mNameError\u001b[0m: name 'html_content' is not defined"
     ]
    }
   ],
   "source": [
    "\n",
    "\n",
    "url = 'https://www.blacktoerunning.com/'\n",
    "headers = {\n",
    "    'User-Agent': 'Mozilla/5.0'\n",
    "}\n",
    "\n",
    "response = requests.get(url, headers=headers)\n",
    "\n",
    "with open('mens_shoes_blacktoe_kw.html', 'w', encoding='utf-8') as file:\n",
    "    file.write(html_content)"
   ]
  },
  {
   "cell_type": "code",
   "execution_count": 27,
   "id": "f2d49530",
   "metadata": {},
   "outputs": [
    {
     "data": {
      "text/plain": [
       "21"
      ]
     },
     "execution_count": 27,
     "metadata": {},
     "output_type": "execute_result"
    }
   ],
   "source": [
    "# CSV setup\n",
    "filename = 'mens_shoes_blacktoe_mt.csv'\n",
    "csv_file = open(filename, 'w', newline='', encoding='utf-8')\n",
    "writer = csv.writer(csv_file)\n",
    "writer.writerow(['Product Title', 'Price'])  # Header\n",
    "\n"
   ]
  },
  {
   "cell_type": "code",
   "execution_count": 9,
   "id": "3c01f3ad",
   "metadata": {},
   "outputs": [
    {
     "name": "stdout",
     "output_type": "stream",
     "text": [
      "Scraping page 1...\n",
      "Scraping page 2...\n",
      "Scraping page 3...\n",
      "Scraping page 4...\n",
      "Scraping page 5...\n",
      "Scraping page 6...\n",
      "Scraping page 7...\n",
      "✅ Done! Saved to mens_shoes_blacktoe.csv\n"
     ]
    }
   ],
   "source": [
    "# Loop through 7 pages\n",
    "for page in range(1, 8):\n",
    "    print(f\"Scraping page {page}...\")\n",
    "    url = base_url.format(page)\n",
    "    response = requests.get(url, headers=headers)\n",
    "    soup = BeautifulSoup(response.content, 'html.parser')\n",
    "\n",
    "    # Find all products\n",
    "    products = soup.find_all('div', class_='grid-product__content')\n",
    "\n",
    "    for product in products:\n",
    "        title_tag = product.find('div', class_='grid-product__title')\n",
    "        price_tag = product.find('div', class_='grid-product__price')\n",
    "\n",
    "        title = title_tag.text.strip() if title_tag else 'No title'\n",
    "        price = price_tag.text.strip() if price_tag else 'No price'\n",
    "\n",
    "        writer.writerow([title, price])\n",
    "\n",
    "    time.sleep(1)  # Be polite between pages\n",
    "\n",
    "csv_file.close()\n",
    "print(\"✅ Done! Saved to mens_shoes_blacktoe.csv\")\n",
    "\n"
   ]
  }
 ],
 "metadata": {
  "kernelspec": {
   "display_name": "base",
   "language": "python",
   "name": "python3"
  },
  "language_info": {
   "codemirror_mode": {
    "name": "ipython",
    "version": 3
   },
   "file_extension": ".py",
   "mimetype": "text/x-python",
   "name": "python",
   "nbconvert_exporter": "python",
   "pygments_lexer": "ipython3",
   "version": "3.12.7"
  }
 },
 "nbformat": 4,
 "nbformat_minor": 5
}
